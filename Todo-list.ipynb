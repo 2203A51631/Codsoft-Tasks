{
  "nbformat": 4,
  "nbformat_minor": 0,
  "metadata": {
    "colab": {
      "provenance": [],
      "authorship_tag": "ABX9TyNeTXKr4fai5mwGXYkhAW4s",
      "include_colab_link": true
    },
    "kernelspec": {
      "name": "python3",
      "display_name": "Python 3"
    },
    "language_info": {
      "name": "python"
    }
  },
  "cells": [
    {
      "cell_type": "markdown",
      "metadata": {
        "id": "view-in-github",
        "colab_type": "text"
      },
      "source": [
        "<a href=\"https://colab.research.google.com/github/2203A51631/Codsoft-Tasks/blob/main/Todo-list.ipynb\" target=\"_parent\"><img src=\"https://colab.research.google.com/assets/colab-badge.svg\" alt=\"Open In Colab\"/></a>"
      ]
    },
    {
      "cell_type": "code",
      "execution_count": null,
      "metadata": {
        "colab": {
          "base_uri": "https://localhost:8080/"
        },
        "id": "zrcetO-embTZ",
        "outputId": "c5ac5f76-330e-48f2-cd19-050050a39aec"
      },
      "outputs": [
        {
          "output_type": "stream",
          "name": "stdout",
          "text": [
            "\n",
            "To-Do List Application\n",
            "1. Add Task\n",
            "2. List Tasks\n",
            "3. Complete Task\n",
            "4. Delete Task\n",
            "5. Update Task\n",
            "6. Exit\n"
          ]
        }
      ],
      "source": [
        "class ToDoList:\n",
        "    def __init__(self):\n",
        "        self.tasks = {}\n",
        "        self.counter = 1\n",
        "    def add_task(self):\n",
        "        task = input(\"Enter the task: \")\n",
        "        self.tasks[self.counter] = {'task': task, 'completed': False}\n",
        "        print(f'Task \"{task}\" added with ID {self.counter}.')\n",
        "        self.counter += 1\n",
        "    def list_tasks(self):\n",
        "        if not self.tasks:\n",
        "            print(\"No tasks in the list.\")\n",
        "        else:\n",
        "            for task_id, task_info in self.tasks.items():\n",
        "                status = \"Completed\" if task_info['completed'] else \"Not Completed\"\n",
        "                print(f\"ID {task_id}: {task_info['task']} - {status}\")\n",
        "    def complete_task(self):\n",
        "        task_id = int(input(\"Enter the task ID to complete: \"))\n",
        "        if task_id in self.tasks:\n",
        "            self.tasks[task_id]['completed'] = True\n",
        "            print(f\"Task ID {task_id} marked as completed.\")\n",
        "        else:\n",
        "            print(\"Invalid task ID.\")\n",
        "    def delete_task(self):\n",
        "        task_id = int(input(\"Enter the task ID to delete: \"))\n",
        "        if task_id in self.tasks:\n",
        "            task = self.tasks.pop(task_id)\n",
        "            print(f\"Task '{task['task']}' with ID {task_id} deleted.\")\n",
        "        else:\n",
        "            print(\"Invalid task ID.\")\n",
        "    def update_task(self):\n",
        "        task_id = int(input(\"Enter the task ID to update: \"))\n",
        "        if task_id in self.tasks:\n",
        "            new_task = input(\"Enter the new task: \")\n",
        "            self.tasks[task_id]['task'] = new_task\n",
        "            print(f\"Task ID {task_id} updated to '{new_task}'.\")\n",
        "        else:\n",
        "            print(\"Invalid task ID.\")\n",
        "def main():\n",
        "    todo_list = ToDoList()\n",
        "    while True:\n",
        "        print(\"\\nTo-Do List Application\")\n",
        "        print(\"1. Add Task\")\n",
        "        print(\"2. List Tasks\")\n",
        "        print(\"3. Complete Task\")\n",
        "        print(\"4. Delete Task\")\n",
        "        print(\"5. Update Task\")\n",
        "        print(\"6. Exit\")\n",
        "        choice = input(\"Enter your choice: \")\n",
        "        if choice == '1':\n",
        "            todo_list.add_task()\n",
        "        elif choice == '2':\n",
        "            todo_list.list_tasks()\n",
        "        elif choice == '3':\n",
        "            todo_list.complete_task()\n",
        "        elif choice == '4':\n",
        "            todo_list.delete_task()\n",
        "        elif choice == '5':\n",
        "            todo_list.update_task()\n",
        "        elif choice == '6':\n",
        "            print(\"Exiting the application.\")\n",
        "            break\n",
        "        else:\n",
        "            print(\"Invalid choice. Please try again.\")\n",
        "if __name__ == \"__main__\":\n",
        "    main()\n"
      ]
    }
  ]
}