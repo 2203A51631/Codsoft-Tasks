{
  "nbformat": 4,
  "nbformat_minor": 0,
  "metadata": {
    "colab": {
      "provenance": [],
      "authorship_tag": "ABX9TyMh/HzxEaLZJ0oTpJW2Msde",
      "include_colab_link": true
    },
    "kernelspec": {
      "name": "python3",
      "display_name": "Python 3"
    },
    "language_info": {
      "name": "python"
    }
  },
  "cells": [
    {
      "cell_type": "markdown",
      "metadata": {
        "id": "view-in-github",
        "colab_type": "text"
      },
      "source": [
        "<a href=\"https://colab.research.google.com/github/2203A51631/Codsoft-Tasks/blob/main/RockPaperScissorsGame.ipynb\" target=\"_parent\"><img src=\"https://colab.research.google.com/assets/colab-badge.svg\" alt=\"Open In Colab\"/></a>"
      ]
    },
    {
      "cell_type": "code",
      "execution_count": null,
      "metadata": {
        "id": "sjRHu75paHpg"
      },
      "outputs": [],
      "source": [
        "import random\n",
        "def get_user_choice():\n",
        "    while True:\n",
        "        choice = input(\"Choose rock, paper, or scissors: \").lower()\n",
        "        if choice in ['rock', 'paper', 'scissors']:\n",
        "            return choice\n",
        "        print(\"Invalid choice. Please choose again.\")\n",
        "def get_computer_choice():\n",
        "    return random.choice(['rock', 'paper', 'scissors'])\n",
        "def determine_winner(user_choice, computer_choice):\n",
        "    if user_choice == computer_choice:\n",
        "        return \"tie\"\n",
        "    elif (user_choice == 'rock' and computer_choice == 'scissors') or \\\n",
        "         (user_choice == 'scissors' and computer_choice == 'paper') or \\\n",
        "         (user_choice == 'paper' and computer_choice == 'rock'):\n",
        "        return \"user\"\n",
        "    else:\n",
        "        return \"computer\"\n",
        "def display_result(user_choice, computer_choice, result):\n",
        "    print(f\"\\nYou chose: {user_choice}\")\n",
        "    print(f\"Computer chose: {computer_choice}\")\n",
        "    if result == \"tie\":\n",
        "        print(\"It's a tie!\")\n",
        "    elif result == \"user\":\n",
        "        print(\"You win!\")\n",
        "    else:\n",
        "        print(\"You lose!\")\n",
        "def play_again():\n",
        "    while True:\n",
        "        choice = input(\"\\nDo you want to play another round? (yes/no): \").lower()\n",
        "        if choice in ['yes', 'no']:\n",
        "            return choice == 'yes'\n",
        "        print(\"Invalid choice. Please answer with yes or no.\")\n",
        "def main():\n",
        "    user_score = 0\n",
        "    computer_score = 0\n",
        "    while True:\n",
        "        user_choice = get_user_choice()\n",
        "        computer_choice = get_computer_choice()\n",
        "        result = determine_winner(user_choice, computer_choice)\n",
        "        if result == \"user\":\n",
        "            user_score += 1\n",
        "        elif result == \"computer\":\n",
        "            computer_score += 1\n",
        "        display_result(user_choice, computer_choice, result)\n",
        "        print(f\"Scores - You: {user_score}, Computer: {computer_score}\")\n",
        "        if not play_again():\n",
        "            break\n",
        "if __name__ == \"__main__\":\n",
        "    main()\n"
      ]
    }
  ]
}