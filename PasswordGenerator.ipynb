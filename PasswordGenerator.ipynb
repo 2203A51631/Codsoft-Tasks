{
  "nbformat": 4,
  "nbformat_minor": 0,
  "metadata": {
    "colab": {
      "provenance": [],
      "authorship_tag": "ABX9TyPrY3ZhCuw6heyC6HoV17SH",
      "include_colab_link": true
    },
    "kernelspec": {
      "name": "python3",
      "display_name": "Python 3"
    },
    "language_info": {
      "name": "python"
    }
  },
  "cells": [
    {
      "cell_type": "markdown",
      "metadata": {
        "id": "view-in-github",
        "colab_type": "text"
      },
      "source": [
        "<a href=\"https://colab.research.google.com/github/2203A51631/Codsoft-Tasks/blob/main/PasswordGenerator.ipynb\" target=\"_parent\"><img src=\"https://colab.research.google.com/assets/colab-badge.svg\" alt=\"Open In Colab\"/></a>"
      ]
    },
    {
      "cell_type": "code",
      "execution_count": null,
      "metadata": {
        "id": "TMLp38hYZ2q9"
      },
      "outputs": [],
      "source": [
        "import random\n",
        "def generate_password():\n",
        "    length = int(input(\"Enter the desired length of the password: \"))\n",
        "    chars = \"abcdefghijklmnopqrstuvwxyzABCDEFGHIJKLMNOPQRSTUVWXYZ0123456789@#$&*\"\n",
        "    password = \"\"\n",
        "    for I in range(length):\n",
        "        random_char = random.choice(chars)\n",
        "        password += random_char\n",
        "    return password\n",
        "while True:\n",
        "    password = generate_password()\n",
        "    print(\"Your password is:\", password)\n",
        "    choice = input(\"Do you want to generate another password? (y/n): \")\n",
        "    if choice.lower() == \"n\":\n",
        "        break\n"
      ]
    }
  ]
}